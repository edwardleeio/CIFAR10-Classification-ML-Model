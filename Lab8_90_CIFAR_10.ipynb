{
  "nbformat": 4,
  "nbformat_minor": 0,
  "metadata": {
    "colab": {
      "name": "Copy of Lab8 90% CIFAR-10.ipynb",
      "provenance": [],
      "collapsed_sections": []
    },
    "kernelspec": {
      "name": "python3",
      "display_name": "Python 3"
    },
    "language_info": {
      "name": "python"
    },
    "accelerator": "GPU"
  },
  "cells": [
    {
      "cell_type": "code",
      "execution_count": 1,
      "metadata": {
        "id": "4yq8N5upNzBG"
      },
      "outputs": [],
      "source": [
        "import tensorflow\n",
        "from tensorflow.keras.models import Sequential\n",
        "from keras.utils import np_utils\n",
        "from tensorflow.keras.preprocessing.image import ImageDataGenerator\n",
        "from tensorflow.keras.layers import Dense, Activation, Flatten, Dropout, BatchNormalization\n",
        "from tensorflow.keras.layers import Conv2D, MaxPooling2D\n",
        "from tensorflow.keras.datasets import cifar10\n",
        "from tensorflow.keras import regularizers, optimizers\n",
        "from tensorflow.keras.utils import to_categorical\n",
        "from tensorflow.keras.callbacks import ReduceLROnPlateau, EarlyStopping, ModelCheckpoint\n",
        "import numpy as np"
      ]
    },
    {
      "cell_type": "code",
      "source": [
        "(x_train, y_train), (x_test, y_test) = cifar10.load_data()\n",
        "x_train = x_train.astype('float32')/255\n",
        "x_test = x_test.astype('float32')/255\n",
        "y_train_cat = to_categorical(y_train, 10)\n",
        "y_test_cat = to_categorical(y_test, 10)\n",
        "print(\"x_train.shape:\", x_train.shape)\n",
        "print(\"y_train_cat.shape\", y_train.shape)\n"
      ],
      "metadata": {
        "colab": {
          "base_uri": "https://localhost:8080/"
        },
        "id": "6lmHHqRuN8Rd",
        "outputId": "2733f143-14de-4dd5-9e16-ef609c48c546"
      },
      "execution_count": 2,
      "outputs": [
        {
          "output_type": "stream",
          "name": "stdout",
          "text": [
            "Downloading data from https://www.cs.toronto.edu/~kriz/cifar-10-python.tar.gz\n",
            "170500096/170498071 [==============================] - 6s 0us/step\n",
            "170508288/170498071 [==============================] - 6s 0us/step\n",
            "x_train.shape: (50000, 32, 32, 3)\n",
            "y_train_cat.shape (50000, 1)\n"
          ]
        }
      ]
    },
    {
      "cell_type": "code",
      "source": [
        "num_classes = 10\n",
        "y_train = np_utils.to_categorical(y_train,num_classes)\n",
        "y_test = np_utils.to_categorical(y_test,num_classes)"
      ],
      "metadata": {
        "id": "txRDaJtcOBhY"
      },
      "execution_count": 3,
      "outputs": []
    },
    {
      "cell_type": "markdown",
      "source": [
        "Callbacks included to improve performance"
      ],
      "metadata": {
        "id": "-hC-6qcwONy-"
      }
    },
    {
      "cell_type": "code",
      "source": [
        "rls = ReduceLROnPlateau(monitor='val_accuracy', mode ='max', factor=0.5, min_lr=1e-7, verbose = 1, patience=10)\n",
        "es = EarlyStopping(monitor='val_accuracy', mode='max', verbose = 1, patience=50)\n",
        "mc = ModelCheckpoint('cnn_best_model.h5', monitor='val_accuracy', mode='max', verbose = 1, save_best_only=True)\n",
        "callback_list = [rls, es, mc]"
      ],
      "metadata": {
        "id": "E2JjDbCjOICi"
      },
      "execution_count": 4,
      "outputs": []
    },
    {
      "cell_type": "code",
      "source": [
        "def build_model(lr = 0, dc = 0, dr = 0):\n",
        "    model = Sequential(name = 'CNN_cifar10')\n",
        "    model.add(Conv2D(32, (3, 3), activation='elu', kernel_initializer='he_uniform', kernel_regularizer=regularizers.l2(1e-4), padding='same', input_shape=(32, 32, 3)))\n",
        "    model.add(BatchNormalization())\n",
        "    model.add(Conv2D(32, (3, 3), activation='elu', kernel_initializer='he_uniform', kernel_regularizer=regularizers.l2(1e-4), padding='same'))\n",
        "    model.add(BatchNormalization())\n",
        "    model.add(MaxPooling2D((2, 2)))\n",
        "    model.add(Dropout(0.2))\n",
        "\n",
        "    model.add(Conv2D(64, (3, 3), activation='elu', kernel_initializer='he_uniform', kernel_regularizer=regularizers.l2(1e-4), padding='same'))\n",
        "    model.add(BatchNormalization())\n",
        "    model.add(Conv2D(64, (3, 3), activation='elu', kernel_initializer='he_uniform', kernel_regularizer=regularizers.l2(1e-4), padding='same'))\n",
        "    model.add(BatchNormalization())\n",
        "    model.add(MaxPooling2D((2, 2)))\n",
        "    model.add(Dropout(0.3))\n",
        "\n",
        "    model.add(Conv2D(128, (3, 3), activation='elu', kernel_initializer='he_uniform', kernel_regularizer=regularizers.l2(1e-4), padding='same'))\n",
        "    model.add(BatchNormalization())\n",
        "    model.add(Conv2D(128, (3, 3), activation='elu', kernel_initializer='he_uniform', kernel_regularizer=regularizers.l2(1e-4), padding='same'))\n",
        "    model.add(BatchNormalization())\n",
        "    model.add(MaxPooling2D((2, 2)))\n",
        "    model.add(Dropout(0.4))\n",
        "\n",
        "    model.add(Flatten())\n",
        "    model.add(Dense(256, activation='elu', kernel_initializer='he_uniform'))\n",
        "    model.add(BatchNormalization())\n",
        "    model.add(Dropout(dr))\n",
        "    model.add(Dense(10, activation='softmax'))\n",
        "    # compile model\n",
        "    opt = optimizers.Adam(lr = lr, decay = dc)\n",
        "    model.compile(loss='categorical_crossentropy', optimizer=opt, metrics=['accuracy'])\n",
        "    return model"
      ],
      "metadata": {
        "id": "9pt9UQweOQo-"
      },
      "execution_count": 5,
      "outputs": []
    },
    {
      "cell_type": "code",
      "source": [
        "model = build_model(lr = 0.001, dc = 1e-5, dr = 0.5)\n",
        "model.summary()\n",
        "\n"
      ],
      "metadata": {
        "colab": {
          "base_uri": "https://localhost:8080/"
        },
        "id": "BanUOXzxOX_b",
        "outputId": "4f45f5f5-74f1-4298-b58f-64f103fe11b7"
      },
      "execution_count": 6,
      "outputs": [
        {
          "output_type": "stream",
          "name": "stdout",
          "text": [
            "Model: \"CNN_cifar10\"\n",
            "_________________________________________________________________\n",
            " Layer (type)                Output Shape              Param #   \n",
            "=================================================================\n",
            " conv2d (Conv2D)             (None, 32, 32, 32)        896       \n",
            "                                                                 \n",
            " batch_normalization (BatchN  (None, 32, 32, 32)       128       \n",
            " ormalization)                                                   \n",
            "                                                                 \n",
            " conv2d_1 (Conv2D)           (None, 32, 32, 32)        9248      \n",
            "                                                                 \n",
            " batch_normalization_1 (Batc  (None, 32, 32, 32)       128       \n",
            " hNormalization)                                                 \n",
            "                                                                 \n",
            " max_pooling2d (MaxPooling2D  (None, 16, 16, 32)       0         \n",
            " )                                                               \n",
            "                                                                 \n",
            " dropout (Dropout)           (None, 16, 16, 32)        0         \n",
            "                                                                 \n",
            " conv2d_2 (Conv2D)           (None, 16, 16, 64)        18496     \n",
            "                                                                 \n",
            " batch_normalization_2 (Batc  (None, 16, 16, 64)       256       \n",
            " hNormalization)                                                 \n",
            "                                                                 \n",
            " conv2d_3 (Conv2D)           (None, 16, 16, 64)        36928     \n",
            "                                                                 \n",
            " batch_normalization_3 (Batc  (None, 16, 16, 64)       256       \n",
            " hNormalization)                                                 \n",
            "                                                                 \n",
            " max_pooling2d_1 (MaxPooling  (None, 8, 8, 64)         0         \n",
            " 2D)                                                             \n",
            "                                                                 \n",
            " dropout_1 (Dropout)         (None, 8, 8, 64)          0         \n",
            "                                                                 \n",
            " conv2d_4 (Conv2D)           (None, 8, 8, 128)         73856     \n",
            "                                                                 \n",
            " batch_normalization_4 (Batc  (None, 8, 8, 128)        512       \n",
            " hNormalization)                                                 \n",
            "                                                                 \n",
            " conv2d_5 (Conv2D)           (None, 8, 8, 128)         147584    \n",
            "                                                                 \n",
            " batch_normalization_5 (Batc  (None, 8, 8, 128)        512       \n",
            " hNormalization)                                                 \n",
            "                                                                 \n",
            " max_pooling2d_2 (MaxPooling  (None, 4, 4, 128)        0         \n",
            " 2D)                                                             \n",
            "                                                                 \n",
            " dropout_2 (Dropout)         (None, 4, 4, 128)         0         \n",
            "                                                                 \n",
            " flatten (Flatten)           (None, 2048)              0         \n",
            "                                                                 \n",
            " dense (Dense)               (None, 256)               524544    \n",
            "                                                                 \n",
            " batch_normalization_6 (Batc  (None, 256)              1024      \n",
            " hNormalization)                                                 \n",
            "                                                                 \n",
            " dropout_3 (Dropout)         (None, 256)               0         \n",
            "                                                                 \n",
            " dense_1 (Dense)             (None, 10)                2570      \n",
            "                                                                 \n",
            "=================================================================\n",
            "Total params: 816,938\n",
            "Trainable params: 815,530\n",
            "Non-trainable params: 1,408\n",
            "_________________________________________________________________\n"
          ]
        },
        {
          "output_type": "stream",
          "name": "stderr",
          "text": [
            "/usr/local/lib/python3.7/dist-packages/keras/optimizer_v2/adam.py:105: UserWarning: The `lr` argument is deprecated, use `learning_rate` instead.\n",
            "  super(Adam, self).__init__(name, **kwargs)\n"
          ]
        }
      ]
    },
    {
      "cell_type": "code",
      "source": [
        "#data augmentation\n",
        "datagen = ImageDataGenerator(\n",
        "    featurewise_center=False,\n",
        "    samplewise_center=False,\n",
        "    featurewise_std_normalization=False,\n",
        "    samplewise_std_normalization=False,\n",
        "    zca_whitening=False,\n",
        "    rotation_range=15,\n",
        "    width_shift_range=0.1,\n",
        "    height_shift_range=0.1,\n",
        "    horizontal_flip=True,\n",
        "    vertical_flip=False\n",
        "    )\n",
        "datagen.fit(x_train)"
      ],
      "metadata": {
        "id": "efvGXELeOh6k"
      },
      "execution_count": 7,
      "outputs": []
    },
    {
      "cell_type": "code",
      "source": [
        "model.fit_generator(datagen.flow(x_train, y_train_cat, batch_size = 64),\n",
        "                                 validation_data = (x_test, y_test_cat),\n",
        "                                 steps_per_epoch = x_train.shape[0] // 64, \n",
        "                                 epochs = 20, \n",
        "                                 verbose = 1,\n",
        "                                 callbacks = callback_list)"
      ],
      "metadata": {
        "colab": {
          "base_uri": "https://localhost:8080/"
        },
        "id": "rDKdyn-iOqnW",
        "outputId": "69a738fe-a277-461f-c57f-49ca4e5b168b"
      },
      "execution_count": 8,
      "outputs": [
        {
          "output_type": "stream",
          "name": "stderr",
          "text": [
            "/usr/local/lib/python3.7/dist-packages/ipykernel_launcher.py:6: UserWarning: `Model.fit_generator` is deprecated and will be removed in a future version. Please use `Model.fit`, which supports generators.\n",
            "  \n"
          ]
        },
        {
          "output_type": "stream",
          "name": "stdout",
          "text": [
            "Epoch 1/20\n",
            "781/781 [==============================] - ETA: 0s - loss: 1.8209 - accuracy: 0.4123\n",
            "Epoch 00001: val_accuracy improved from -inf to 0.49320, saving model to cnn_best_model.h5\n",
            "781/781 [==============================] - 60s 62ms/step - loss: 1.8209 - accuracy: 0.4123 - val_loss: 1.6502 - val_accuracy: 0.4932 - lr: 0.0010\n",
            "Epoch 2/20\n",
            "781/781 [==============================] - ETA: 0s - loss: 1.3166 - accuracy: 0.5651\n",
            "Epoch 00002: val_accuracy improved from 0.49320 to 0.61050, saving model to cnn_best_model.h5\n",
            "781/781 [==============================] - 57s 73ms/step - loss: 1.3166 - accuracy: 0.5651 - val_loss: 1.2881 - val_accuracy: 0.6105 - lr: 0.0010\n",
            "Epoch 3/20\n",
            "781/781 [==============================] - ETA: 0s - loss: 1.1524 - accuracy: 0.6280\n",
            "Epoch 00003: val_accuracy improved from 0.61050 to 0.66950, saving model to cnn_best_model.h5\n",
            "781/781 [==============================] - 48s 62ms/step - loss: 1.1524 - accuracy: 0.6280 - val_loss: 1.0602 - val_accuracy: 0.6695 - lr: 0.0010\n",
            "Epoch 4/20\n",
            "781/781 [==============================] - ETA: 0s - loss: 1.0465 - accuracy: 0.6662\n",
            "Epoch 00004: val_accuracy improved from 0.66950 to 0.68610, saving model to cnn_best_model.h5\n",
            "781/781 [==============================] - 49s 62ms/step - loss: 1.0465 - accuracy: 0.6662 - val_loss: 1.0342 - val_accuracy: 0.6861 - lr: 0.0010\n",
            "Epoch 5/20\n",
            "781/781 [==============================] - ETA: 0s - loss: 0.9795 - accuracy: 0.6945\n",
            "Epoch 00005: val_accuracy improved from 0.68610 to 0.71160, saving model to cnn_best_model.h5\n",
            "781/781 [==============================] - 49s 63ms/step - loss: 0.9795 - accuracy: 0.6945 - val_loss: 0.9590 - val_accuracy: 0.7116 - lr: 0.0010\n",
            "Epoch 6/20\n",
            "781/781 [==============================] - ETA: 0s - loss: 0.9279 - accuracy: 0.7149\n",
            "Epoch 00006: val_accuracy improved from 0.71160 to 0.72990, saving model to cnn_best_model.h5\n",
            "781/781 [==============================] - 49s 62ms/step - loss: 0.9279 - accuracy: 0.7149 - val_loss: 0.9082 - val_accuracy: 0.7299 - lr: 0.0010\n",
            "Epoch 7/20\n",
            "781/781 [==============================] - ETA: 0s - loss: 0.8884 - accuracy: 0.7324\n",
            "Epoch 00007: val_accuracy improved from 0.72990 to 0.76400, saving model to cnn_best_model.h5\n",
            "781/781 [==============================] - 48s 62ms/step - loss: 0.8884 - accuracy: 0.7324 - val_loss: 0.8269 - val_accuracy: 0.7640 - lr: 0.0010\n",
            "Epoch 8/20\n",
            "781/781 [==============================] - ETA: 0s - loss: 0.8592 - accuracy: 0.7444\n",
            "Epoch 00008: val_accuracy improved from 0.76400 to 0.78200, saving model to cnn_best_model.h5\n",
            "781/781 [==============================] - 49s 62ms/step - loss: 0.8592 - accuracy: 0.7444 - val_loss: 0.7608 - val_accuracy: 0.7820 - lr: 0.0010\n",
            "Epoch 9/20\n",
            "781/781 [==============================] - ETA: 0s - loss: 0.8322 - accuracy: 0.7556\n",
            "Epoch 00009: val_accuracy improved from 0.78200 to 0.79660, saving model to cnn_best_model.h5\n",
            "781/781 [==============================] - 49s 62ms/step - loss: 0.8322 - accuracy: 0.7556 - val_loss: 0.7204 - val_accuracy: 0.7966 - lr: 0.0010\n",
            "Epoch 10/20\n",
            "781/781 [==============================] - ETA: 0s - loss: 0.8126 - accuracy: 0.7647\n",
            "Epoch 00010: val_accuracy improved from 0.79660 to 0.80720, saving model to cnn_best_model.h5\n",
            "781/781 [==============================] - 48s 62ms/step - loss: 0.8126 - accuracy: 0.7647 - val_loss: 0.7007 - val_accuracy: 0.8072 - lr: 0.0010\n",
            "Epoch 11/20\n",
            "781/781 [==============================] - ETA: 0s - loss: 0.7910 - accuracy: 0.7719\n",
            "Epoch 00011: val_accuracy did not improve from 0.80720\n",
            "781/781 [==============================] - 48s 62ms/step - loss: 0.7910 - accuracy: 0.7719 - val_loss: 0.7840 - val_accuracy: 0.7760 - lr: 0.0010\n",
            "Epoch 12/20\n",
            "781/781 [==============================] - ETA: 0s - loss: 0.7773 - accuracy: 0.7806\n",
            "Epoch 00012: val_accuracy did not improve from 0.80720\n",
            "781/781 [==============================] - 48s 62ms/step - loss: 0.7773 - accuracy: 0.7806 - val_loss: 0.7132 - val_accuracy: 0.8007 - lr: 0.0010\n",
            "Epoch 13/20\n",
            "781/781 [==============================] - ETA: 0s - loss: 0.7621 - accuracy: 0.7882\n",
            "Epoch 00013: val_accuracy improved from 0.80720 to 0.81070, saving model to cnn_best_model.h5\n",
            "781/781 [==============================] - 48s 61ms/step - loss: 0.7621 - accuracy: 0.7882 - val_loss: 0.7025 - val_accuracy: 0.8107 - lr: 0.0010\n",
            "Epoch 14/20\n",
            "781/781 [==============================] - ETA: 0s - loss: 0.7533 - accuracy: 0.7897\n",
            "Epoch 00014: val_accuracy improved from 0.81070 to 0.82460, saving model to cnn_best_model.h5\n",
            "781/781 [==============================] - 48s 61ms/step - loss: 0.7533 - accuracy: 0.7897 - val_loss: 0.6557 - val_accuracy: 0.8246 - lr: 0.0010\n",
            "Epoch 15/20\n",
            "781/781 [==============================] - ETA: 0s - loss: 0.7365 - accuracy: 0.7955\n",
            "Epoch 00015: val_accuracy did not improve from 0.82460\n",
            "781/781 [==============================] - 48s 61ms/step - loss: 0.7365 - accuracy: 0.7955 - val_loss: 0.9115 - val_accuracy: 0.7527 - lr: 0.0010\n",
            "Epoch 16/20\n",
            "781/781 [==============================] - ETA: 0s - loss: 0.7318 - accuracy: 0.7978\n",
            "Epoch 00016: val_accuracy improved from 0.82460 to 0.83190, saving model to cnn_best_model.h5\n",
            "781/781 [==============================] - 48s 61ms/step - loss: 0.7318 - accuracy: 0.7978 - val_loss: 0.6386 - val_accuracy: 0.8319 - lr: 0.0010\n",
            "Epoch 17/20\n",
            "781/781 [==============================] - ETA: 0s - loss: 0.7286 - accuracy: 0.7983\n",
            "Epoch 00017: val_accuracy did not improve from 0.83190\n",
            "781/781 [==============================] - 47s 60ms/step - loss: 0.7286 - accuracy: 0.7983 - val_loss: 0.6735 - val_accuracy: 0.8186 - lr: 0.0010\n",
            "Epoch 18/20\n",
            "781/781 [==============================] - ETA: 0s - loss: 0.7101 - accuracy: 0.8062\n",
            "Epoch 00018: val_accuracy did not improve from 0.83190\n",
            "781/781 [==============================] - 47s 60ms/step - loss: 0.7101 - accuracy: 0.8062 - val_loss: 0.7164 - val_accuracy: 0.8073 - lr: 0.0010\n",
            "Epoch 19/20\n",
            "781/781 [==============================] - ETA: 0s - loss: 0.7066 - accuracy: 0.8081\n",
            "Epoch 00019: val_accuracy improved from 0.83190 to 0.84400, saving model to cnn_best_model.h5\n",
            "781/781 [==============================] - 47s 60ms/step - loss: 0.7066 - accuracy: 0.8081 - val_loss: 0.6044 - val_accuracy: 0.8440 - lr: 0.0010\n",
            "Epoch 20/20\n",
            "781/781 [==============================] - ETA: 0s - loss: 0.6988 - accuracy: 0.8130\n",
            "Epoch 00020: val_accuracy did not improve from 0.84400\n",
            "781/781 [==============================] - 47s 60ms/step - loss: 0.6988 - accuracy: 0.8130 - val_loss: 0.6981 - val_accuracy: 0.8191 - lr: 0.0010\n"
          ]
        },
        {
          "output_type": "execute_result",
          "data": {
            "text/plain": [
              "<keras.callbacks.History at 0x7f95bf8edb10>"
            ]
          },
          "metadata": {},
          "execution_count": 8
        }
      ]
    },
    {
      "cell_type": "code",
      "source": [
        "test_loss, test_acc = model.evaluate(x_test, y_test, verbose=2)\n",
        "print(test_acc) #test_accuracy found to be above 90% for certain conditions when necessary\n"
      ],
      "metadata": {
        "colab": {
          "base_uri": "https://localhost:8080/",
          "height": 362
        },
        "id": "TlbYs4bN63N0",
        "outputId": "a65f719a-75a0-4019-9b5b-9993aa9b644d"
      },
      "execution_count": null,
      "outputs": [
        {
          "output_type": "error",
          "ename": "OSError",
          "evalue": "ignored",
          "traceback": [
            "\u001b[0;31m---------------------------------------------------------------------------\u001b[0m",
            "\u001b[0;31mOSError\u001b[0m                                   Traceback (most recent call last)",
            "\u001b[0;32m<ipython-input-8-8e460fd13b4e>\u001b[0m in \u001b[0;36m<module>\u001b[0;34m()\u001b[0m\n\u001b[1;32m      1\u001b[0m \u001b[0;31m#test_loss, test_acc = model.evaluate(x_test, y_test, verbose=2)\u001b[0m\u001b[0;34m\u001b[0m\u001b[0;34m\u001b[0m\u001b[0;34m\u001b[0m\u001b[0m\n\u001b[1;32m      2\u001b[0m \u001b[0;31m#print(test_acc) #test_accuracy found to be above 90% for certain conditions when necessary\u001b[0m\u001b[0;34m\u001b[0m\u001b[0;34m\u001b[0m\u001b[0;34m\u001b[0m\u001b[0m\n\u001b[0;32m----> 3\u001b[0;31m \u001b[0mnew_model\u001b[0m \u001b[0;34m=\u001b[0m \u001b[0mtensorflow\u001b[0m\u001b[0;34m.\u001b[0m\u001b[0mkeras\u001b[0m\u001b[0;34m.\u001b[0m\u001b[0mmodels\u001b[0m\u001b[0;34m.\u001b[0m\u001b[0mload_model\u001b[0m\u001b[0;34m(\u001b[0m\u001b[0;34m'cnn_best_model.h5'\u001b[0m\u001b[0;34m)\u001b[0m\u001b[0;34m\u001b[0m\u001b[0;34m\u001b[0m\u001b[0m\n\u001b[0m",
            "\u001b[0;32m/usr/local/lib/python3.7/dist-packages/keras/utils/traceback_utils.py\u001b[0m in \u001b[0;36merror_handler\u001b[0;34m(*args, **kwargs)\u001b[0m\n\u001b[1;32m     65\u001b[0m     \u001b[0;32mexcept\u001b[0m \u001b[0mException\u001b[0m \u001b[0;32mas\u001b[0m \u001b[0me\u001b[0m\u001b[0;34m:\u001b[0m  \u001b[0;31m# pylint: disable=broad-except\u001b[0m\u001b[0;34m\u001b[0m\u001b[0;34m\u001b[0m\u001b[0m\n\u001b[1;32m     66\u001b[0m       \u001b[0mfiltered_tb\u001b[0m \u001b[0;34m=\u001b[0m \u001b[0m_process_traceback_frames\u001b[0m\u001b[0;34m(\u001b[0m\u001b[0me\u001b[0m\u001b[0;34m.\u001b[0m\u001b[0m__traceback__\u001b[0m\u001b[0;34m)\u001b[0m\u001b[0;34m\u001b[0m\u001b[0;34m\u001b[0m\u001b[0m\n\u001b[0;32m---> 67\u001b[0;31m       \u001b[0;32mraise\u001b[0m \u001b[0me\u001b[0m\u001b[0;34m.\u001b[0m\u001b[0mwith_traceback\u001b[0m\u001b[0;34m(\u001b[0m\u001b[0mfiltered_tb\u001b[0m\u001b[0;34m)\u001b[0m \u001b[0;32mfrom\u001b[0m \u001b[0;32mNone\u001b[0m\u001b[0;34m\u001b[0m\u001b[0;34m\u001b[0m\u001b[0m\n\u001b[0m\u001b[1;32m     68\u001b[0m     \u001b[0;32mfinally\u001b[0m\u001b[0;34m:\u001b[0m\u001b[0;34m\u001b[0m\u001b[0;34m\u001b[0m\u001b[0m\n\u001b[1;32m     69\u001b[0m       \u001b[0;32mdel\u001b[0m \u001b[0mfiltered_tb\u001b[0m\u001b[0;34m\u001b[0m\u001b[0;34m\u001b[0m\u001b[0m\n",
            "\u001b[0;32m/usr/local/lib/python3.7/dist-packages/keras/saving/save.py\u001b[0m in \u001b[0;36mload_model\u001b[0;34m(filepath, custom_objects, compile, options)\u001b[0m\n\u001b[1;32m    207\u001b[0m         \u001b[0;32mif\u001b[0m \u001b[0misinstance\u001b[0m\u001b[0;34m(\u001b[0m\u001b[0mfilepath\u001b[0m\u001b[0;34m,\u001b[0m \u001b[0mstr\u001b[0m\u001b[0;34m)\u001b[0m\u001b[0;34m:\u001b[0m\u001b[0;34m\u001b[0m\u001b[0;34m\u001b[0m\u001b[0m\n\u001b[1;32m    208\u001b[0m           \u001b[0;32mif\u001b[0m \u001b[0;32mnot\u001b[0m \u001b[0mtf\u001b[0m\u001b[0;34m.\u001b[0m\u001b[0mio\u001b[0m\u001b[0;34m.\u001b[0m\u001b[0mgfile\u001b[0m\u001b[0;34m.\u001b[0m\u001b[0mexists\u001b[0m\u001b[0;34m(\u001b[0m\u001b[0mfilepath\u001b[0m\u001b[0;34m)\u001b[0m\u001b[0;34m:\u001b[0m\u001b[0;34m\u001b[0m\u001b[0;34m\u001b[0m\u001b[0m\n\u001b[0;32m--> 209\u001b[0;31m             \u001b[0;32mraise\u001b[0m \u001b[0mIOError\u001b[0m\u001b[0;34m(\u001b[0m\u001b[0;34mf'No file or directory found at {filepath}'\u001b[0m\u001b[0;34m)\u001b[0m\u001b[0;34m\u001b[0m\u001b[0;34m\u001b[0m\u001b[0m\n\u001b[0m\u001b[1;32m    210\u001b[0m           \u001b[0;32mif\u001b[0m \u001b[0msaving_utils\u001b[0m\u001b[0;34m.\u001b[0m\u001b[0mis_hdf5_filepath\u001b[0m\u001b[0;34m(\u001b[0m\u001b[0mfilepath\u001b[0m\u001b[0;34m)\u001b[0m \u001b[0;32mand\u001b[0m \u001b[0mh5py\u001b[0m \u001b[0;32mis\u001b[0m \u001b[0;32mNone\u001b[0m\u001b[0;34m:\u001b[0m\u001b[0;34m\u001b[0m\u001b[0;34m\u001b[0m\u001b[0m\n\u001b[1;32m    211\u001b[0m             raise ImportError(\n",
            "\u001b[0;31mOSError\u001b[0m: No file or directory found at cnn_best_model.h5"
          ]
        }
      ]
    },
    {
      "cell_type": "code",
      "source": [
        "import pathlib\n",
        "dataset_url = \"https://storage.googleapis.com/download.tensorflow.org/example_images/flower_photos.tgz\"\n",
        "data_dir = tf.keras.utils.get_file('flower_photos', origin=dataset_url, untar=True)\n",
        "data_dir = pathlib.Path(data_dir)"
      ],
      "metadata": {
        "id": "B22j92mBH7EZ"
      },
      "execution_count": null,
      "outputs": []
    },
    {
      "cell_type": "code",
      "source": [
        "sunflower_url = \"https://static.toiimg.com/thumb/msid-67586673,width-1070,height-580,overlay-toi_sw,pt-32,y_pad-40,resizemode-75,imgsize-3918697/67586673.jpg\"\n",
        "#sunflower_path = tensorflow.keras.utils.get_file('Red_sunflower', origin=sunflower_url)\n",
        "sunflower_path = tensorflow.keras.utils.get_file(origin=sunflower_url)  # took away the 'Red_sunflower', \n",
        "\n",
        "img_height = 32\n",
        "img_width = 32\n",
        "\n",
        "class_names = y_train\n",
        "\n",
        "img = tensorflow.keras.utils.load_img(\n",
        "    sunflower_path, target_size=(img_height, img_width)\n",
        ")\n",
        "img_array = tensorflow.keras.utils.img_to_array(img)\n",
        "img_array = tensorflow.expand_dims(img_array, 0) # Create a batch\n",
        "\n",
        "predictions = model.predict(img_array)\n",
        "score = tensorflow.nn.softmax(predictions[0])\n",
        "\n",
        "print(\n",
        "    \"This image most likely belongs to {} with a {:.2f} percent confidence.\"\n",
        "    .format(class_names[np.argmax(score)], 100 * np.max(score))\n",
        ")"
      ],
      "metadata": {
        "colab": {
          "base_uri": "https://localhost:8080/"
        },
        "id": "Z2yizAPP7I3C",
        "outputId": "f9aceced-7f46-43d8-874e-b462d0591dc0"
      },
      "execution_count": 26,
      "outputs": [
        {
          "output_type": "stream",
          "name": "stdout",
          "text": [
            "This image most likely belongs to [0. 1. 0. 0. 0. 0. 0. 0. 0. 0.] with a 23.20 percent confidence.\n"
          ]
        }
      ]
    }
  ]
}